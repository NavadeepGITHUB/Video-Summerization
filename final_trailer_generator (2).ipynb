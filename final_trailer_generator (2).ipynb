{
  "cells": [
    {
      "cell_type": "markdown",
      "metadata": {
        "id": "t0CSut66ywVG"
      },
      "source": [
        "# **VIDEO SUMMERIZATION: GENERATING MOVIE TRAILER (MINI PORJECT) **"
      ],
      "id": "t0CSut66ywVG"
    },
    {
      "cell_type": "code",
      "metadata": {
        "colab": {
          "base_uri": "https://localhost:8080/"
        },
        "id": "1pZwPWOwywVI",
        "outputId": "9c5b7276-9b44-4bd4-ba84-e29d1e026130"
      },
      "source": [
        "# 📦 Install required libraries\n",
        "!pip install opencv-python numpy ffmpeg-python librosa"
      ],
      "id": "1pZwPWOwywVI",
      "execution_count": 1,
      "outputs": [
        {
          "output_type": "stream",
          "name": "stdout",
          "text": [
            "Requirement already satisfied: opencv-python in /usr/local/lib/python3.11/dist-packages (4.11.0.86)\n",
            "Requirement already satisfied: numpy in /usr/local/lib/python3.11/dist-packages (2.0.2)\n",
            "Collecting ffmpeg-python\n",
            "  Downloading ffmpeg_python-0.2.0-py3-none-any.whl.metadata (1.7 kB)\n",
            "Requirement already satisfied: librosa in /usr/local/lib/python3.11/dist-packages (0.11.0)\n",
            "Requirement already satisfied: future in /usr/local/lib/python3.11/dist-packages (from ffmpeg-python) (1.0.0)\n",
            "Requirement already satisfied: audioread>=2.1.9 in /usr/local/lib/python3.11/dist-packages (from librosa) (3.0.1)\n",
            "Requirement already satisfied: numba>=0.51.0 in /usr/local/lib/python3.11/dist-packages (from librosa) (0.60.0)\n",
            "Requirement already satisfied: scipy>=1.6.0 in /usr/local/lib/python3.11/dist-packages (from librosa) (1.15.3)\n",
            "Requirement already satisfied: scikit-learn>=1.1.0 in /usr/local/lib/python3.11/dist-packages (from librosa) (1.6.1)\n",
            "Requirement already satisfied: joblib>=1.0 in /usr/local/lib/python3.11/dist-packages (from librosa) (1.5.1)\n",
            "Requirement already satisfied: decorator>=4.3.0 in /usr/local/lib/python3.11/dist-packages (from librosa) (4.4.2)\n",
            "Requirement already satisfied: soundfile>=0.12.1 in /usr/local/lib/python3.11/dist-packages (from librosa) (0.13.1)\n",
            "Requirement already satisfied: pooch>=1.1 in /usr/local/lib/python3.11/dist-packages (from librosa) (1.8.2)\n",
            "Requirement already satisfied: soxr>=0.3.2 in /usr/local/lib/python3.11/dist-packages (from librosa) (0.5.0.post1)\n",
            "Requirement already satisfied: typing_extensions>=4.1.1 in /usr/local/lib/python3.11/dist-packages (from librosa) (4.14.1)\n",
            "Requirement already satisfied: lazy_loader>=0.1 in /usr/local/lib/python3.11/dist-packages (from librosa) (0.4)\n",
            "Requirement already satisfied: msgpack>=1.0 in /usr/local/lib/python3.11/dist-packages (from librosa) (1.1.1)\n",
            "Requirement already satisfied: packaging in /usr/local/lib/python3.11/dist-packages (from lazy_loader>=0.1->librosa) (25.0)\n",
            "Requirement already satisfied: llvmlite<0.44,>=0.43.0dev0 in /usr/local/lib/python3.11/dist-packages (from numba>=0.51.0->librosa) (0.43.0)\n",
            "Requirement already satisfied: platformdirs>=2.5.0 in /usr/local/lib/python3.11/dist-packages (from pooch>=1.1->librosa) (4.3.8)\n",
            "Requirement already satisfied: requests>=2.19.0 in /usr/local/lib/python3.11/dist-packages (from pooch>=1.1->librosa) (2.32.3)\n",
            "Requirement already satisfied: threadpoolctl>=3.1.0 in /usr/local/lib/python3.11/dist-packages (from scikit-learn>=1.1.0->librosa) (3.6.0)\n",
            "Requirement already satisfied: cffi>=1.0 in /usr/local/lib/python3.11/dist-packages (from soundfile>=0.12.1->librosa) (1.17.1)\n",
            "Requirement already satisfied: pycparser in /usr/local/lib/python3.11/dist-packages (from cffi>=1.0->soundfile>=0.12.1->librosa) (2.22)\n",
            "Requirement already satisfied: charset-normalizer<4,>=2 in /usr/local/lib/python3.11/dist-packages (from requests>=2.19.0->pooch>=1.1->librosa) (3.4.2)\n",
            "Requirement already satisfied: idna<4,>=2.5 in /usr/local/lib/python3.11/dist-packages (from requests>=2.19.0->pooch>=1.1->librosa) (3.10)\n",
            "Requirement already satisfied: urllib3<3,>=1.21.1 in /usr/local/lib/python3.11/dist-packages (from requests>=2.19.0->pooch>=1.1->librosa) (2.4.0)\n",
            "Requirement already satisfied: certifi>=2017.4.17 in /usr/local/lib/python3.11/dist-packages (from requests>=2.19.0->pooch>=1.1->librosa) (2025.7.14)\n",
            "Downloading ffmpeg_python-0.2.0-py3-none-any.whl (25 kB)\n",
            "Installing collected packages: ffmpeg-python\n",
            "Successfully installed ffmpeg-python-0.2.0\n"
          ]
        }
      ]
    },
    {
      "cell_type": "code",
      "metadata": {
        "id": "2m9sa_52ywVJ"
      },
      "source": [
        "\n",
        "import cv2\n",
        "import numpy as np\n",
        "import os\n",
        "\n",
        "def extract_keyframes(video_path, output_folder, min_frame_gap=100):\n",
        "    cap = cv2.VideoCapture(video_path)\n",
        "    prev_frame = None\n",
        "    frame_count = 0\n",
        "    last_saved = -min_frame_gap  # so first frame passes\n",
        "    saved_frames = []\n",
        "\n",
        "    os.makedirs(output_folder, exist_ok=True)\n",
        "\n",
        "    while cap.isOpened():\n",
        "        ret, frame = cap.read()\n",
        "        if not ret:\n",
        "            break\n",
        "\n",
        "        gray = cv2.cvtColor(frame, cv2.COLOR_BGR2GRAY)\n",
        "\n",
        "        if prev_frame is not None:\n",
        "            diff = cv2.absdiff(prev_frame, gray)\n",
        "            mean_diff = np.mean(diff)\n",
        "\n",
        "            # Save only if frame is different and far from last one saved\n",
        "            if mean_diff > 25 and (frame_count - last_saved) >= min_frame_gap:\n",
        "                frame_filename = os.path.join(output_folder, f\"frame_{frame_count}.jpg\")\n",
        "                cv2.imwrite(frame_filename, frame)\n",
        "                saved_frames.append(frame_count)\n",
        "                last_saved = frame_count\n",
        "\n",
        "        prev_frame = gray\n",
        "        frame_count += 1\n",
        "\n",
        "    cap.release()\n",
        "    print(f\"Extracted {len(saved_frames)} spaced keyframes.\")\n",
        "    return saved_frames\n"
      ],
      "id": "2m9sa_52ywVJ",
      "execution_count": 10,
      "outputs": []
    },
    {
      "cell_type": "code",
      "metadata": {
        "id": "QzKe4tnwywVJ"
      },
      "source": [
        "# 🎞️ Step 2: Generate 2-Second Clips from Selected Frames\n",
        "import subprocess\n",
        "\n",
        "def generate_clips(video_path, frames, output_folder):\n",
        "    os.makedirs(output_folder, exist_ok=True)\n",
        "    cap = cv2.VideoCapture(video_path)\n",
        "    fps = cap.get(cv2.CAP_PROP_FPS)\n",
        "    cap.release()\n",
        "\n",
        "    for frame in frames:\n",
        "        timestamp = frame / fps\n",
        "        clip_name = os.path.join(output_folder, f\"frame_{frame}.mp4\")\n",
        "        command = f\"ffmpeg -y -ss {timestamp} -t 2 -i {video_path} -vf scale=640:360 -preset veryfast -crf 28 -c:v libx264 -c:a aac {clip_name}\"\n",
        "\n",
        "\n",
        "        subprocess.run(command, shell=True)\n",
        "    print(\"Clips generated.\")"
      ],
      "id": "QzKe4tnwywVJ",
      "execution_count": 11,
      "outputs": []
    },
    {
      "cell_type": "markdown",
      "source": [
        "import os\n",
        "import subprocess\n",
        "\n",
        "def create_trailer_with_transitions(clips_folder, frames, output_trailer):\n",
        "    # Step 1: Generate input list for filtering\n",
        "    filter_complex = \"\"\n",
        "    inputs = []\n",
        "    for idx, frame in enumerate(frames):\n",
        "        clip = os.path.join(clips_folder, f\"frame_{frame}.mp4\")\n",
        "        inputs.append(f\"-i {clip}\")\n",
        "        filter_complex += f\"[{idx}:v][{idx}:a]\"\n",
        "\n",
        "    # Build crossfade filters\n",
        "    fade_filters = \"\"\n",
        "    for i in range(len(frames) - 1):\n",
        "        fade_filters += (\n",
        "            f\"[v{i}][a{i}][{i+1}:v][{i+1}:a]xfade=transition=fade:duration=1:offset={2*i}:\"\n",
        "            f\"format=yuv420p[v{i+1}][a{i+1}];\"\n",
        "        )\n",
        "\n",
        "    # Final output mapping\n",
        "    last_video = f\"v{len(frames) - 1}\"\n",
        "    last_audio = f\"a{len(frames) - 1}\"\n",
        "\n",
        "    # Complete FFmpeg command\n",
        "    inputs_str = \" \".join(inputs)\n",
        "    cmd = f\"\"\"\n",
        "    ffmpeg {inputs_str} -filter_complex \"\n",
        "    {' '.join([f'[{i}:v]scale=640:360,setpts=PTS-STARTPTS[v{i}];[{i}:a]asetpts=PTS-STARTPTS[a{i}]' for i in range(len(frames))])};\n",
        "    {fade_filters[:-1]}\n",
        "    [{last_video}][{last_audio}]concat=n=1:v=1:a=1[outv][outa]\n",
        "    \" -map \"[outv]\" -map \"[outa]\" {output_trailer}\n",
        "    \"\"\"\n",
        "    subprocess.run(cmd, shell=True)\n",
        "    print(f\"Trailer with transitions created at: {output_trailer}\")\n"
      ],
      "metadata": {
        "id": "EE5Zg5Imxl89"
      },
      "id": "EE5Zg5Imxl89"
    },
    {
      "cell_type": "code",
      "metadata": {
        "colab": {
          "base_uri": "https://localhost:8080/"
        },
        "id": "MgfBix0jywVK",
        "outputId": "a0b9eccc-85b0-4671-eebd-85273df74fe1"
      },
      "source": [
        "# ▶️ Run the entire pipeline\n",
        "video_file = \"/content/VIDEO-2025-03-10-00-06-48.mp4\"  # Replace with your movie file\n",
        "keyframe_folder = \"keyframes\"\n",
        "clips_folder = \"clips\"\n",
        "\n",
        "\n",
        "import os\n",
        "import subprocess\n",
        "\n",
        "def create_trailer_with_transitions(clips_folder, frames, output_trailer):\n",
        "    # Step 1: Generate input list for filtering\n",
        "    filter_complex = \"\"\n",
        "    inputs = []\n",
        "    for idx, frame in enumerate(frames):\n",
        "        clip = os.path.join(clips_folder, f\"frame_{frame}.mp4\")\n",
        "        inputs.append(f\"-i {clip}\")\n",
        "        filter_complex += f\"[{idx}:v][{idx}:a]\"\n",
        "\n",
        "    # Build crossfade filters\n",
        "    fade_filters = \"\"\n",
        "    for i in range(len(frames) - 1):\n",
        "        fade_filters += (\n",
        "            f\"[v{i}][a{i}][{i+1}:v][{i+1}:a]xfade=transition=fade:duration=1:offset={2*i}:\"\n",
        "            f\"format=yuv420p[v{i+1}][a{i+1}];\"\n",
        "        )\n",
        "\n",
        "    # Final output mapping\n",
        "    last_video = f\"v{len(frames) - 1}\"\n",
        "    last_audio = f\"a{len(frames) - 1}\"\n",
        "\n",
        "    # Complete FFmpeg command\n",
        "    inputs_str = \" \".join(inputs)\n",
        "    cmd = f\"\"\"\n",
        "    ffmpeg {inputs_str} -filter_complex \"\n",
        "    {' '.join([f'[{i}:v]scale=640:360,setpts=PTS-STARTPTS[v{i}];[{i}:a]asetpts=PTS-STARTPTS[a{i}]' for i in range(len(frames))])};\n",
        "    {fade_filters[:-1]}\n",
        "    [{last_video}][{last_audio}]concat=n=1:v=1:a=1[outv][outa]\n",
        "    \" -map \"[outv]\" -map \"[outa]\" {output_trailer}\n",
        "    \"\"\"\n",
        "    subprocess.run(cmd, shell=True)\n",
        "    print(f\"Trailer with transitions created at: {output_trailer}\")\n",
        "\n",
        "\n",
        "print(\"Extracting keyframes...\")\n",
        "keyframes = extract_keyframes(video_file, keyframe_folder, min_frame_gap=100)\n",
        "\n",
        "\n",
        "import random\n",
        "\n",
        "selected_frames = random.sample(keyframes, min(40, len(keyframes)))  # 75 clips × 2s = 150s = 2.5 minutes\n",
        "\n",
        "#selected_frames.sort()  # for smooth viewing\n",
        "\n",
        "\n",
        "\n",
        "generate_clips(video_file, selected_frames, clips_folder)\n",
        "create_trailer_with_transitions(clips_folder, selected_frames, \"final_trailer.mp4\")"
      ],
      "id": "MgfBix0jywVK",
      "execution_count": 12,
      "outputs": [
        {
          "output_type": "stream",
          "name": "stdout",
          "text": [
            "Extracting keyframes...\n",
            "Extracted 0 spaced keyframes.\n",
            "Clips generated.\n",
            "Trailer with transitions created at: final_trailer.mp4\n"
          ]
        }
      ]
    },
    {
      "cell_type": "code",
      "source": [
        "import os\n",
        "import subprocess\n",
        "\n",
        "def check_clip_durations(clips_folder):\n",
        "    for file in os.listdir(clips_folder):\n",
        "        if file.endswith(\".mp4\"):\n",
        "            path = os.path.join(clips_folder, file)\n",
        "            cmd = f\"ffprobe -v error -show_entries format=duration -of default=noprint_wrappers=1:nokey=1 \\\"{path}\\\"\"\n",
        "            result = subprocess.getoutput(cmd)\n",
        "            print(f\"{file}: {result.strip()} sec\")\n",
        "\n",
        "check_clip_durations(\"clips\")\n"
      ],
      "metadata": {
        "id": "xtlkNR3FzYqW"
      },
      "id": "xtlkNR3FzYqW",
      "execution_count": 13,
      "outputs": []
    },
    {
      "cell_type": "code",
      "source": [],
      "metadata": {
        "id": "1O3-gu_MSdGo"
      },
      "id": "1O3-gu_MSdGo",
      "execution_count": null,
      "outputs": []
    }
  ],
  "metadata": {
    "kernelspec": {
      "display_name": "Python 3",
      "name": "python3"
    },
    "language_info": {
      "name": "python",
      "version": "3.10"
    },
    "colab": {
      "provenance": []
    }
  },
  "nbformat": 4,
  "nbformat_minor": 5
}